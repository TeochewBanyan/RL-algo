{
 "cells": [
  {
   "cell_type": "code",
   "execution_count": null,
   "id": "e01982eb",
   "metadata": {},
   "outputs": [],
   "source": [
    "import torch\n",
    "import torch.nn as nn\n",
    "import torch.nn.functional as F\n",
    "# policy pi(a\\s,theta)\n",
    "class Policy(nn.module):\n",
    "    def __init__(self, hidden_size, num_state, action_space):\n",
    "        super(Policy, self).__init__()\n",
    "        self.action_space = action_space\n",
    "        num_output = action_space.num\n",
    "        \n",
    "        self.linear1 = nn.Linear(num_state, hidden_size)\n",
    "        self.linear2 = nn.Linear(hidden_size, num_output)\n",
    "    \n",
    "    def forward(self, states):\n",
    "        s = states\n",
    "        s = F.relu(self.linear1(states))\n",
    "        action_scores = self.linear2(s)\n",
    "        return F.softmax(action_scores)"
   ]
  },
  {
   "cell_type": "code",
   "execution_count": null,
   "id": "27ec7f88",
   "metadata": {},
   "outputs": [],
   "source": [
    "import torch.autograd as autograd\n",
    "import torch.optim as optim\n",
    "import numpy as np\n",
    "import itertools\n",
    "policy = Policy(hidden_size, action_space)\n",
    "def REINFORCE(env, policy, value, lr_policy, df, num_episodes):\n",
    "    \"\"\"\n",
    "    params:\n",
    "    df: discount factor\n",
    "    \"\"\"\n",
    "    optimizer = optim.Adam(policy.parameters, lr_policy)\n",
    "    G = np.zeros(num_episodes)\n",
    "    for i in range(num_episodes):\n",
    "        state = env.reset()\n",
    "        rewards = []\n",
    "        experiences = []\n",
    "        log_prob\n",
    "        for t in itertools.count():\n",
    "            #take action, and move to the next state\n",
    "            action_prob = policy.forward(state)\n",
    "            action = np.random.choice(np.arange(len(action_prob)))\n",
    "            next_s, reward, done, _ = env.step(action)\n",
    "            \n",
    "            experiences.append(state)\n",
    "            rewards.append(reward)\n",
    "            log_prob.append(torch.log(action_prob[action]))\n",
    "            \n",
    "            if done:\n",
    "                break\n",
    "            state = next_s\n",
    "        returns = []\n",
    "        for i in reversed(range(len(rewards))):\n",
    "            G = df*G+rewards[i]\n",
    "            returns.insert(0,G)\n",
    "        returns = torch.tensor(returns)\n",
    "        #  or use a value estimator as baseline\n",
    "        returns = (returns-returns.means())/(returns.std())\n",
    "        loss = 0\n",
    "        for prob, r in zip(log_prob, returns):\n",
    "            loss = loss - (prob)*r\n",
    "        loss = loss/len(rewards)\n",
    "        \n",
    "        optimizer.zero_grad()\n",
    "        loss.backward()\n",
    "        optimizer.step()"
   ]
  }
 ],
 "metadata": {
  "kernelspec": {
   "display_name": "python(pytorch)",
   "language": "python",
   "name": "pytorch"
  },
  "language_info": {
   "codemirror_mode": {
    "name": "ipython",
    "version": 3
   },
   "file_extension": ".py",
   "mimetype": "text/x-python",
   "name": "python",
   "nbconvert_exporter": "python",
   "pygments_lexer": "ipython3",
   "version": "3.8.12"
  }
 },
 "nbformat": 4,
 "nbformat_minor": 5
}
