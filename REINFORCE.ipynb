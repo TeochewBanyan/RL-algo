{
 "cells": [
  {
   "cell_type": "code",
   "execution_count": null,
   "id": "e01982eb",
   "metadata": {},
   "outputs": [],
   "source": [
    "import torch\n",
    "import torch.nn as nn\n",
    "import torch.nn.functional as F\n",
    "# policy pi(a\\s,theta)\n",
    "class Policy(nn.module):\n",
    "    def __init__(self, hidden_size, num_state, action_space):\n",
    "        super(Policy, self).__init__()\n",
    "        self.action_space = action_space\n",
    "        num_output = action_space.num\n",
    "        \n",
    "        self.linear1 = nn.Linear(num_state, hidden_size)\n",
    "        self.linear2 = nn.Linear(hidden_size, num_output)\n",
    "    \n",
    "    def forward(self, states):\n",
    "        s = states\n",
    "        s = F.relu(self.linear1(states))\n",
    "        action_scores = self.linear2(s)\n",
    "        return F.softmax(action_scores)"
   ]
  },
  {
   "cell_type": "code",
   "execution_count": null,
   "id": "27ec7f88",
   "metadata": {},
   "outputs": [],
   "source": [
    "import torch.autograd as autograd\n",
    "import torch.optim as optim\n",
    "import numpy as np\n",
    "import itertools\n",
    "policy = Policy(hidden_size, action_space)\n",
    "def REINFORCE(env, policy, value, lr_policy, lr_value, discount, num_episodes):\n",
    "    optimizer = optim.Adam(policy.parameters)\n",
    "    G = np.zeros(num_episodes)\n",
    "    for i in range(num_episodes):\n",
    "        state = env.reset()\n",
    "        for t in itertools.count():\n",
    "            action_prob = policy.forward(state)\n",
    "            action = np.random.choice(np.arange(len(action_prob)))"
   ]
  }
 ],
 "metadata": {
  "kernelspec": {
   "display_name": "python(pytorch)",
   "language": "python",
   "name": "pytorch"
  },
  "language_info": {
   "codemirror_mode": {
    "name": "ipython",
    "version": 3
   },
   "file_extension": ".py",
   "mimetype": "text/x-python",
   "name": "python",
   "nbconvert_exporter": "python",
   "pygments_lexer": "ipython3",
   "version": "3.8.12"
  }
 },
 "nbformat": 4,
 "nbformat_minor": 5
}
